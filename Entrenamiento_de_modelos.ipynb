{
  "cells": [
    {
      "cell_type": "markdown",
      "metadata": {
        "id": "oq5reK7Kem8t"
      },
      "source": [
        "##Emotion detection:\n",
        "https://www.kaggle.com/datasets/ananthu017/emotion-detection-fer\n",
        "\n",
        "Tamaño: 35.9k\n",
        "\n",
        "\n",
        "\n",
        "*   Train: 24.282\n",
        "    * Angry: 3995\n",
        "    * Disgusted: 436\n",
        "    * Fearful: 4097\n",
        "    * Happy: 7215\n",
        "    * Neutral: 4965\n",
        "    * Sad: 4830\n",
        "    * surprised: 3171\n",
        "\n",
        "*   Test: 7178\n",
        "\n",
        "\n",
        "\n",
        "\n",
        "\n",
        "\n"
      ]
    },
    {
      "cell_type": "markdown",
      "source": [
        "#Load libs"
      ],
      "metadata": {
        "id": "3_wHdfSmrIFt"
      }
    },
    {
      "cell_type": "code",
      "execution_count": null,
      "metadata": {
        "id": "aAGVozZU9RI9"
      },
      "outputs": [],
      "source": [
        "\n",
        "import os\n",
        "import pandas as pd\n",
        "import numpy as np\n",
        "import random\n",
        "import matplotlib.pyplot as plt\n",
        "import seaborn as sns\n",
        "sns.set_theme()\n"
      ]
    },
    {
      "cell_type": "code",
      "execution_count": null,
      "metadata": {
        "id": "vMBl6KA7t4L3"
      },
      "outputs": [],
      "source": [
        "import numpy as np\n",
        "from sklearn.naive_bayes import GaussianNB\n",
        "from sklearn.model_selection import train_test_split\n",
        "from sklearn.metrics import accuracy_score\n",
        "import matplotlib.pyplot as plt\n",
        "import sklearn.externals\n",
        "\n"
      ]
    },
    {
      "cell_type": "code",
      "source": [
        "import os\n",
        "import pandas as pd\n",
        "import numpy as np\n",
        "import random\n",
        "import seaborn as sns\n",
        "sns.set_theme()\n",
        "from sklearn.naive_bayes import GaussianNB\n",
        "from sklearn.model_selection import train_test_split\n",
        "from sklearn.metrics import accuracy_score\n",
        "import matplotlib.pyplot as plt\n",
        "from joblib import dump\n",
        "from joblib import load\n",
        "\n",
        "import tensorflow as tf\n",
        "from tensorflow import keras\n",
        "print(tf.__version__)"
      ],
      "metadata": {
        "id": "XDa1KXuDxlMy",
        "outputId": "3a833e80-b9ba-490e-cd51-1c1ae495f5d7",
        "colab": {
          "base_uri": "https://localhost:8080/"
        }
      },
      "execution_count": null,
      "outputs": [
        {
          "output_type": "stream",
          "name": "stdout",
          "text": [
            "2.12.0\n"
          ]
        }
      ]
    },
    {
      "cell_type": "markdown",
      "source": [
        "#Montar el drive"
      ],
      "metadata": {
        "id": "A_Bq5BCtrRtk"
      }
    },
    {
      "cell_type": "code",
      "execution_count": null,
      "metadata": {
        "colab": {
          "base_uri": "https://localhost:8080/"
        },
        "id": "QjjnV5Ii83jt",
        "outputId": "73cffad3-d46b-4ded-a41d-0315c514c569"
      },
      "outputs": [
        {
          "output_type": "stream",
          "name": "stdout",
          "text": [
            "Mounted at /content/drive\n",
            "/content/drive/.shortcut-targets-by-id/1RJdbXAWiwID162JN0IevNCxkN1GB4qOj/Proyecto IA\n"
          ]
        }
      ],
      "source": [
        "#@title **MONTAR EL DRIVE** { display-mode: \"form\" }\n",
        "import os\n",
        "from google.colab import drive\n",
        "\n",
        "path_ai = \"Proyecto IA\" #@param {type:\"string\"}\n",
        "path = \"/content/drive/My Drive/\" + path_ai\n",
        "drive.mount('/content/drive')\n",
        "os.chdir(path)\n",
        "print(os.getcwd())"
      ]
    },
    {
      "cell_type": "markdown",
      "metadata": {
        "id": "EGcUzayBAruj"
      },
      "source": [
        "#Conectar con kaggle (despues de ejecutarse una vez ya no es necesario)"
      ]
    },
    {
      "cell_type": "code",
      "execution_count": null,
      "metadata": {
        "colab": {
          "base_uri": "https://localhost:8080/"
        },
        "id": "yh29gfm8ysif",
        "outputId": "15b04451-3646-411d-cdb6-dca4f19ec945"
      },
      "outputs": [
        {
          "output_type": "stream",
          "name": "stdout",
          "text": [
            "Requirement already satisfied: kaggle in /usr/local/lib/python3.10/dist-packages (1.5.15)\n",
            "Requirement already satisfied: six>=1.10 in /usr/local/lib/python3.10/dist-packages (from kaggle) (1.16.0)\n",
            "Requirement already satisfied: certifi in /usr/local/lib/python3.10/dist-packages (from kaggle) (2023.5.7)\n",
            "Requirement already satisfied: python-dateutil in /usr/local/lib/python3.10/dist-packages (from kaggle) (2.8.2)\n",
            "Requirement already satisfied: requests in /usr/local/lib/python3.10/dist-packages (from kaggle) (2.27.1)\n",
            "Requirement already satisfied: tqdm in /usr/local/lib/python3.10/dist-packages (from kaggle) (4.65.0)\n",
            "Requirement already satisfied: python-slugify in /usr/local/lib/python3.10/dist-packages (from kaggle) (8.0.1)\n",
            "Requirement already satisfied: urllib3 in /usr/local/lib/python3.10/dist-packages (from kaggle) (1.26.16)\n",
            "Requirement already satisfied: bleach in /usr/local/lib/python3.10/dist-packages (from kaggle) (6.0.0)\n",
            "Requirement already satisfied: webencodings in /usr/local/lib/python3.10/dist-packages (from bleach->kaggle) (0.5.1)\n",
            "Requirement already satisfied: text-unidecode>=1.3 in /usr/local/lib/python3.10/dist-packages (from python-slugify->kaggle) (1.3)\n",
            "Requirement already satisfied: charset-normalizer~=2.0.0 in /usr/local/lib/python3.10/dist-packages (from requests->kaggle) (2.0.12)\n",
            "Requirement already satisfied: idna<4,>=2.5 in /usr/local/lib/python3.10/dist-packages (from requests->kaggle) (3.4)\n"
          ]
        }
      ],
      "source": [
        "!pip install kaggle"
      ]
    },
    {
      "cell_type": "code",
      "execution_count": null,
      "metadata": {
        "colab": {
          "base_uri": "https://localhost:8080/"
        },
        "id": "6tDQg_qaFSaT",
        "outputId": "a23ab047-81ba-451a-d734-b077c72325df"
      },
      "outputs": [
        {
          "output_type": "stream",
          "name": "stdout",
          "text": [
            "{\"username\":\"carlosg0328\",\"key\":\"47e18ba5eb4c048c4556b9bab3b8f6dd\"}\n"
          ]
        }
      ],
      "source": [
        "ruta_del_archivo = \"/content/drive/MyDrive/Proyecto IA/kaggle.json\"\n",
        "\n",
        "with open(ruta_del_archivo) as f:\n",
        "  # hacer algo con el archivo, como imprimir su contenido\n",
        "  print(f.read())"
      ]
    },
    {
      "cell_type": "code",
      "execution_count": null,
      "metadata": {
        "id": "F2htRN0azrjw"
      },
      "outputs": [],
      "source": [
        "!mkdir -p ~/.kaggle\n",
        "!cp kaggle.json ~/.kaggle/\n",
        "!chmod 600 ~/.kaggle/kaggle.json"
      ]
    },
    {
      "cell_type": "code",
      "execution_count": null,
      "metadata": {
        "colab": {
          "base_uri": "https://localhost:8080/"
        },
        "id": "FCwuPjjG0xN1",
        "outputId": "4d79943a-7b91-43fd-cf3c-0e1de9322ffe"
      },
      "outputs": [
        {
          "output_type": "stream",
          "name": "stdout",
          "text": [
            "emotion-detection-fer.zip: Skipping, found more recently modified local copy (use --force to force download)\n"
          ]
        }
      ],
      "source": [
        "\n",
        "!kaggle datasets download -d ananthu017/emotion-detection-fer"
      ]
    },
    {
      "cell_type": "code",
      "source": [
        "from zipfile import ZipFile\n",
        "file_name = \"emotion-detection-fer.zip\"\n",
        "with ZipFile(file_name,\"r\") as zip:\n",
        "  zip.extractall()\n",
        "  print(\"done\")\n"
      ],
      "metadata": {
        "id": "t1spcXjZWcBh"
      },
      "execution_count": null,
      "outputs": []
    },
    {
      "cell_type": "markdown",
      "metadata": {
        "id": "9DTinGHb6NPT"
      },
      "source": [
        "#Cargar el dataset"
      ]
    },
    {
      "cell_type": "code",
      "execution_count": null,
      "metadata": {
        "colab": {
          "base_uri": "https://localhost:8080/"
        },
        "id": "hWzG7Phw6FaW",
        "outputId": "dee34583-96b3-4482-ee83-9f4beb176530"
      },
      "outputs": [
        {
          "output_type": "stream",
          "name": "stdout",
          "text": [
            "Número de imágenes: 35659\n",
            "Número de etiquetas: 35659\n"
          ]
        }
      ],
      "source": [
        "import os\n",
        "import cv2\n",
        "import numpy as np\n",
        "\n",
        "def cargar_dataset(ruta_dataset):\n",
        "    imagenes = []\n",
        "    etiquetas = []\n",
        "\n",
        "    # Ruta completa de la carpeta \"train\"\n",
        "    ruta_train = os.path.join('/content/drive/MyDrive', ruta_dataset, 'train')\n",
        "\n",
        "    for nombre_clase in os.listdir(ruta_train):\n",
        "        carpeta_clase = os.path.join(ruta_train, nombre_clase)\n",
        "        if not os.path.isdir(carpeta_clase):\n",
        "            continue\n",
        "\n",
        "        for nombre_archivo in os.listdir(carpeta_clase):\n",
        "            archivo = os.path.join(carpeta_clase, nombre_archivo)\n",
        "            imagen = cv2.imread(archivo, cv2.IMREAD_GRAYSCALE)\n",
        "\n",
        "            if imagen is not None:\n",
        "                imagenes.append(imagen)\n",
        "                etiquetas.append(nombre_clase)\n",
        "\n",
        "    # Ruta completa de la carpeta \"test\"\n",
        "    ruta_test = os.path.join('/content/drive/MyDrive', ruta_dataset, 'test')\n",
        "\n",
        "    for nombre_clase in os.listdir(ruta_test):\n",
        "        carpeta_clase = os.path.join(ruta_test, nombre_clase)\n",
        "        if not os.path.isdir(carpeta_clase):\n",
        "            continue\n",
        "\n",
        "        for nombre_archivo in os.listdir(carpeta_clase):\n",
        "            archivo = os.path.join(carpeta_clase, nombre_archivo)\n",
        "            imagen = cv2.imread(archivo, cv2.IMREAD_GRAYSCALE)\n",
        "\n",
        "            if imagen is not None:\n",
        "                imagenes.append(imagen)\n",
        "                etiquetas.append(nombre_clase)\n",
        "\n",
        "    return np.array(imagenes), np.array(etiquetas)\n",
        "\n",
        "ruta_dataset = \"/content/drive/MyDrive/Proyecto IA\"  # Reemplaza con la ruta real de tu dataset en Google Drive\n",
        "\n",
        "imagenes, etiquetas = cargar_dataset(ruta_dataset)\n",
        "\n",
        "# Verificar el tamaño del dataset\n",
        "print(\"Número de imágenes:\", len(imagenes))\n",
        "print(\"Número de etiquetas:\", len(etiquetas))\n",
        "\n",
        "\n"
      ]
    },
    {
      "cell_type": "code",
      "execution_count": null,
      "metadata": {
        "colab": {
          "base_uri": "https://localhost:8080/"
        },
        "id": "IoH7SHDX6wFc",
        "outputId": "c1b605b3-d38c-4b3c-ee40-8e61e12c35a1"
      },
      "outputs": [
        {
          "output_type": "stream",
          "name": "stdout",
          "text": [
            "Número de imágenes: 35660\n",
            "Número de etiquetas: 35660\n"
          ]
        }
      ],
      "source": [
        "from joblib import dump\n",
        "from joblib import load\n",
        "imagenes, etiquetas= load('/content/drive/MyDrive/Proyecto IA/ConjuntosDatos/dataset1.pkl')\n",
        "print(\"Número de imágenes:\", len(imagenes))\n",
        "print(\"Número de etiquetas:\", len(etiquetas))"
      ]
    },
    {
      "cell_type": "markdown",
      "metadata": {
        "id": "t8vmgpZZ8ewK"
      },
      "source": [
        "##Guardar los datos:"
      ]
    },
    {
      "cell_type": "code",
      "execution_count": null,
      "metadata": {
        "colab": {
          "base_uri": "https://localhost:8080/"
        },
        "id": "nf_xiED48hxE",
        "outputId": "fe2626ff-c500-41cb-e990-0a4f1c0376e2"
      },
      "outputs": [
        {
          "output_type": "execute_result",
          "data": {
            "text/plain": [
              "['/content/drive/MyDrive/Proyecto IA/ConjuntosDatos/dataset1.pkl']"
            ]
          },
          "metadata": {},
          "execution_count": 5
        }
      ],
      "source": [
        "#from joblib import dump\n",
        "\n",
        "# Guardar el conjunto de datos en un archivo\n",
        "#dump((imagenes, etiquetas), '/content/drive/MyDrive/Proyecto IA/ConjuntosDatos/dataset1.pkl')\n",
        "\n",
        "# Cargar el conjunto de datos desde el archivo\n",
        "#imagenes_cargadas, etiquetas_cargadas = joblib.load('/content/drive/MyDrive/Proyecto IA/ConjuntosDatos/dataset.pkl')"
      ]
    },
    {
      "cell_type": "markdown",
      "source": [
        "#Procesamiento de datos"
      ],
      "metadata": {
        "id": "hz9Ufb00sODo"
      }
    },
    {
      "cell_type": "code",
      "execution_count": null,
      "metadata": {
        "colab": {
          "base_uri": "https://localhost:8080/"
        },
        "id": "x5h9-qz-oeUg",
        "outputId": "808c3058-93e7-4c01-fb02-99556ebfe097"
      },
      "outputs": [
        {
          "output_type": "stream",
          "name": "stdout",
          "text": [
            "Tamaño del conjunto de datos: 32094\n",
            "Tamaño del conjunto de validación: 3566\n"
          ]
        }
      ],
      "source": [
        "from sklearn.model_selection import train_test_split\n",
        "\n",
        "# Separar el 10% de los datos en una nueva variable\n",
        "datos, datosV, etiquetas, etiquetasV = train_test_split(imagenes, etiquetas, test_size=0.1, random_state=42)\n",
        "\n",
        "# Verificar el tamaño de los conjuntos de datos\n",
        "print(\"Tamaño del conjunto de datos:\", len(datos))\n",
        "print(\"Tamaño del conjunto de validación:\", len(datosV))\n"
      ]
    },
    {
      "cell_type": "code",
      "execution_count": null,
      "metadata": {
        "colab": {
          "base_uri": "https://localhost:8080/"
        },
        "id": "sOWucFX4LjbC",
        "outputId": "b8d4be2d-ac09-444b-d0b6-1f2ee1f3985e"
      },
      "outputs": [
        {
          "output_type": "execute_result",
          "data": {
            "text/plain": [
              "['/content/drive/MyDrive/Proyecto IA/ConjuntosDatos/datasetV.pkl']"
            ]
          },
          "metadata": {},
          "execution_count": 8
        }
      ],
      "source": [
        "#from joblib import dump\n",
        "\n",
        "# Guardar el conjunto de datos en un archivo\n",
        "#dump((datos, datosV, etiquetas, etiquetasV), '/content/drive/MyDrive/Proyecto IA/ConjuntosDatos/dataset1.pkl')\n"
      ]
    },
    {
      "cell_type": "code",
      "execution_count": null,
      "metadata": {
        "id": "Fuqe1yTJrO14",
        "colab": {
          "base_uri": "https://localhost:8080/"
        },
        "outputId": "de93b0ae-c1c7-456f-ebb0-95f0e0e173e6"
      },
      "outputs": [
        {
          "output_type": "stream",
          "name": "stdout",
          "text": [
            "x_train shape: (3566, 48, 48)\n"
          ]
        }
      ],
      "source": [
        "print('x_train shape:', datosV.shape)"
      ]
    },
    {
      "cell_type": "code",
      "execution_count": null,
      "metadata": {
        "id": "5ySuoquJrpHD",
        "colab": {
          "base_uri": "https://localhost:8080/"
        },
        "outputId": "a2ba28bb-2d53-4e40-ee25-3ad00ae57491"
      },
      "outputs": [
        {
          "output_type": "stream",
          "name": "stdout",
          "text": [
            "x_train shape: (32094, 48, 48, 1)\n",
            "Number of images in x_train 32094\n",
            "Number of images in validacion 3566\n"
          ]
        }
      ],
      "source": [
        "#@title **code** To normalize and prepare data\n",
        "datos = datos.reshape([-1, 48, 48, 1])\n",
        "datosV = datosV.reshape([-1, 48, 48, 1])\n",
        "##-1 es el batch, que indica que despues se puede poner cualquier cantidad de batchs, en cambio si ponemos 100, los batches seran de eso\n",
        "datos = datos.astype('float32')\n",
        "datosV  = datosV.astype('float32')\n",
        "\n",
        "datos /= 255\n",
        "datosV  /= 255\n",
        "print('x_train shape:', datos.shape)\n",
        "print('Number of images in x_train', datos.shape[0])\n",
        "print('Number of images in validacion',datosV .shape[0])"
      ]
    },
    {
      "cell_type": "code",
      "execution_count": null,
      "metadata": {
        "id": "01Pxpq6uoyni",
        "colab": {
          "base_uri": "https://localhost:8080/",
          "height": 259
        },
        "outputId": "ea1644e2-ec85-4fee-e9b4-fb40e84692a4"
      },
      "outputs": [
        {
          "output_type": "display_data",
          "data": {
            "text/plain": [
              "<Figure size 1500x500 with 5 Axes>"
            ],
            "image/png": "[encoded data removed]"
          },
          "metadata": {}
        }
      ],
      "source": [
        "def visualizar_imagenes(imagenes, etiquetas, num_imagenes):\n",
        "    clases = np.unique(etiquetas)\n",
        "\n",
        "    fig, axs = plt.subplots(1, num_imagenes, figsize=(15, 5))\n",
        "\n",
        "    for i in range(num_imagenes):\n",
        "        indice = np.random.randint(0, len(imagenes))\n",
        "        imagen = imagenes[indice]\n",
        "        etiqueta = etiquetas[indice]\n",
        "\n",
        "        axs[i].imshow(imagen, cmap='gray')\n",
        "        axs[i].set_title(etiqueta)\n",
        "        axs[i].axis('off')\n",
        "\n",
        "    plt.show()\n",
        "\n",
        "num_imagenes_visualizar = 5  # Número de imágenes a visualizar\n",
        "visualizar_imagenes(datosV, etiquetasV, num_imagenes_visualizar)"
      ]
    },
    {
      "cell_type": "code",
      "source": [
        "X_train, X_test, y_train, y_test = train_test_split(datos.reshape(len(datos), -1), etiquetas, test_size=0.3, random_state=22)"
      ],
      "metadata": {
        "id": "5l_Bg0-KtAKL"
      },
      "execution_count": null,
      "outputs": []
    },
    {
      "cell_type": "markdown",
      "source": [
        "##Funciones necesarias"
      ],
      "metadata": {
        "id": "u9myYaQFtTN0"
      }
    },
    {
      "cell_type": "code",
      "source": [
        "# Visualizar algunas imágenes del conjunto de validación junto con las predicciones del modelo\n",
        "def visualizar_predicciones(imagenes, etiquetas, predicciones, num_imagenes):\n",
        "    clases = np.unique(etiquetas)\n",
        "\n",
        "    fig, axs = plt.subplots(1, num_imagenes, figsize=(15, 5))\n",
        "\n",
        "    for i in range(num_imagenes):\n",
        "        indice = np.random.randint(0, len(imagenes))\n",
        "        imagen = imagenes[indice]\n",
        "        etiqueta = etiquetas[indice]\n",
        "        prediccion = predicciones[indice]\n",
        "\n",
        "        axs[i].imshow(imagen, cmap='gray')\n",
        "        axs[i].set_title(f\"Etiqueta: {etiqueta}\\nPredicción: {prediccion}\")\n",
        "        axs[i].axis('off')\n",
        "\n",
        "    plt.show()"
      ],
      "metadata": {
        "id": "tHDU2Q7ntYKp"
      },
      "execution_count": null,
      "outputs": []
    },
    {
      "cell_type": "markdown",
      "metadata": {
        "id": "4CWfDdfzuQHd"
      },
      "source": [
        "#Entrenamiento de modelos"
      ]
    },
    {
      "cell_type": "markdown",
      "source": [
        "##Machine Learning"
      ],
      "metadata": {
        "id": "n07pBIL-xKt7"
      }
    },
    {
      "cell_type": "markdown",
      "metadata": {
        "id": "S6OK3UxkkjgQ"
      },
      "source": [
        "###Modelo 1: Gaussian Naive Bayes\n",
        "\n"
      ]
    },
    {
      "cell_type": "code",
      "execution_count": null,
      "metadata": {
        "id": "Xe5-z79wkpBM",
        "colab": {
          "base_uri": "https://localhost:8080/"
        },
        "outputId": "235fbdd5-26ba-4114-cb0b-c76d0fb41bba"
      },
      "outputs": [
        {
          "output_type": "stream",
          "name": "stdout",
          "text": [
            "Precisión del modelo1: 0.21923356527157545\n"
          ]
        }
      ],
      "source": [
        "import numpy as np\n",
        "from sklearn.naive_bayes import GaussianNB\n",
        "from sklearn.model_selection import train_test_split\n",
        "from sklearn.metrics import accuracy_score\n",
        "\n",
        "# Preparar los datos de entrenamiento y prueba\n",
        "\n",
        "\n",
        "# Crear y entrenar el modelo Gaussian Naive Bayes\n",
        "modelo1 = GaussianNB()\n",
        "modelo1.fit(X_train, y_train)\n",
        "\n",
        "# Predecir las etiquetas para los datos de prueba\n",
        "y_pred = modelo1.predict(X_test)\n",
        "\n",
        "# Calcular la precisión del modelo\n",
        "precision = accuracy_score(y_test, y_pred)\n",
        "print(\"Precisión del modelo1:\", precision)\n"
      ]
    },
    {
      "cell_type": "code",
      "execution_count": null,
      "metadata": {
        "id": "fzAJJwkHAWSR"
      },
      "outputs": [],
      "source": [
        "#from joblib import dump\n",
        "\n",
        "# Guardar el modelo entrenado en un archivo\n",
        "#dump(modelo1, '/content/drive/MyDrive/Proyecto IA/Modelos/modelo1_1.pkl')\n",
        "\n",
        "# Cargar el modelo desde el archivo\n",
        "#modelo1 = joblib.load('/content/drive/Modelos/modelo1.pkl')\n"
      ]
    },
    {
      "cell_type": "code",
      "execution_count": null,
      "metadata": {
        "id": "FAiejDmBt7tE",
        "colab": {
          "base_uri": "https://localhost:8080/",
          "height": 298
        },
        "outputId": "8dad2d6f-828c-4a9b-e953-593aa9bf99af"
      },
      "outputs": [
        {
          "output_type": "stream",
          "name": "stdout",
          "text": [
            "Precisión en los datos de validación: 0.2035894559730791\n"
          ]
        },
        {
          "output_type": "display_data",
          "data": {
            "text/plain": [
              "<Figure size 1500x500 with 5 Axes>"
            ],
            "image/png": "[encoded data removed]"
          },
          "metadata": {}
        }
      ],
      "source": [
        "# Preparar los datos de validación\n",
        "X_val = datosV.reshape(len(datosV), -1)\n",
        "\n",
        "# Realizar predicciones en los datos de validación\n",
        "y_pred_val = modelo1.predict(X_val)\n",
        "\n",
        "# Calcular la precisión en los datos de validación\n",
        "precision_val = accuracy_score(etiquetasV, y_pred_val)\n",
        "print(\"Precisión en los datos de validación:\", precision_val)\n",
        "\n",
        "\n",
        "\n",
        "num_imagenes_visualizar = 5  # Número de imágenes a visualizar\n",
        "visualizar_predicciones(datosV, etiquetasV, y_pred_val, num_imagenes_visualizar)\n"
      ]
    },
    {
      "cell_type": "markdown",
      "metadata": {
        "id": "SDt_Otx_ukey"
      },
      "source": [
        "###Modelo 2: Decision Tree"
      ]
    },
    {
      "cell_type": "code",
      "execution_count": null,
      "metadata": {
        "id": "rBP-1stXurYA",
        "colab": {
          "base_uri": "https://localhost:8080/"
        },
        "outputId": "4905cf7f-02c3-4a23-fe11-7b2262252b00"
      },
      "outputs": [
        {
          "output_type": "stream",
          "name": "stdout",
          "text": [
            "0.31124727386021395\n"
          ]
        }
      ],
      "source": [
        "from sklearn.tree import DecisionTreeClassifier\n",
        "\n",
        "\n",
        "modelo2 = DecisionTreeClassifier(max_depth=8)##que tan grande haga los arboles\n",
        "\n",
        "modelo2.fit(X_train,y_train)\n",
        "print(accuracy_score(modelo2.predict(X_test), y_test))"
      ]
    },
    {
      "cell_type": "code",
      "execution_count": null,
      "metadata": {
        "id": "tZBH3DRFE8xs"
      },
      "outputs": [],
      "source": [
        "#from joblib import dump\n",
        "\n",
        "# Guardar el modelo entrenado en un archivo\n",
        "#dump(modelo2, '/content/drive/MyDrive/Proyecto IA/Modelos/modelo2_2.pkl')\n",
        "\n"
      ]
    },
    {
      "cell_type": "code",
      "execution_count": null,
      "metadata": {
        "id": "HUr6UxbWEOB1"
      },
      "outputs": [],
      "source": [
        "##from sklearn.externals import joblib\n",
        "\n",
        "# Guardar el modelo entrenado en un archivo\n",
        "#joblib.dump(modelo2, '/content/drive/Modelos/modelo2.pkl')\n",
        "\n",
        "# Cargar el modelo desde el archivo\n",
        "#modelo1 = joblib.load('/content/drive/Modelos/modelo1.pkl')"
      ]
    },
    {
      "cell_type": "code",
      "execution_count": null,
      "metadata": {
        "id": "JxKBkXrowQGa"
      },
      "outputs": [],
      "source": [
        "# Preparar los datos de validación\n",
        "X_val = datosV.reshape(len(datosV), -1)\n",
        "\n",
        "# Realizar predicciones en los datos de validación\n",
        "y_pred_val = modelo2.predict(X_val)\n",
        "\n",
        "# Calcular la precisión en los datos de validación\n",
        "precision_val = accuracy_score(etiquetasV, y_pred_val)\n",
        "print(\"Precisión en los datos de validación:\", precision_val)\n",
        "\n",
        "\n",
        "\n",
        "num_imagenes_visualizar = 5  # Número de imágenes a visualizar\n",
        "visualizar_predicciones(datosV, etiquetasV, y_pred_val, num_imagenes_visualizar)"
      ]
    },
    {
      "cell_type": "markdown",
      "metadata": {
        "id": "FfJEqt5Dxb30"
      },
      "source": [
        "###Modelo 3: Random Forest"
      ]
    },
    {
      "cell_type": "code",
      "execution_count": null,
      "metadata": {
        "id": "3WEZufXPxe0s"
      },
      "outputs": [],
      "source": [
        "from sklearn.ensemble import RandomForestClassifier\n",
        "from sklearn.metrics import accuracy_score\n",
        "\n",
        "# Crear y entrenar el modelo de Random Forest\n",
        "modelo3 = RandomForestClassifier(n_estimators=100, random_state=42)\n",
        "modelo3.fit(X_train, y_train)\n",
        "\n",
        "# Predecir las etiquetas para los datos de prueba\n",
        "y_pred = modelo3.predict(X_test)\n",
        "\n",
        "# Calcular la precisión del modelo\n",
        "precision = accuracy_score(y_test, y_pred)\n",
        "print(\"Precisión del modelo de Random Forest:\", precision)\n"
      ]
    },
    {
      "cell_type": "code",
      "execution_count": null,
      "metadata": {
        "id": "Q6eyE5KqFEU8"
      },
      "outputs": [],
      "source": [
        "#from joblib import dump\n",
        "\n",
        "# Guardar el modelo entrenado en un archivo\n",
        "#dump(modelo3, '/content/drive/MyDrive/Proyecto IA/Modelos/modelo3_3.pkl')\n",
        "\n",
        "# Cargar el modelo desde el archivo\n",
        "#modelo1 = joblib.load('/content/drive/Modelos/modelo1.pkl')"
      ]
    },
    {
      "cell_type": "code",
      "execution_count": null,
      "metadata": {
        "id": "93nvxqSGyB4f"
      },
      "outputs": [],
      "source": [
        "# Preparar los datos de validación\n",
        "X_val = datosV.reshape(len(datosV), -1)\n",
        "\n",
        "# Realizar predicciones en los datos de validación\n",
        "y_pred_val = modelo3.predict(X_val)\n",
        "\n",
        "# Calcular la precisión en los datos de validación\n",
        "precision_val = accuracy_score(etiquetasV, y_pred_val)\n",
        "print(\"Precisión en los datos de validación:\", precision_val)\n",
        "\n",
        "\n",
        "\n",
        "num_imagenes_visualizar = 5  # Número de imágenes a visualizar\n",
        "visualizar_predicciones(datosV, etiquetasV, y_pred_val, num_imagenes_visualizar)"
      ]
    },
    {
      "cell_type": "markdown",
      "metadata": {
        "id": "Yo3ihSPLzcsb"
      },
      "source": [
        "###Modelo 4: Support Vector Machine"
      ]
    },
    {
      "cell_type": "code",
      "execution_count": null,
      "metadata": {
        "id": "YtOFCY8i7Uzw"
      },
      "outputs": [],
      "source": [
        "from sklearn.svm import SVC\n",
        "from sklearn.model_selection import train_test_split\n",
        "from sklearn.metrics import accuracy_score\n",
        "\n",
        "\n",
        "\n",
        "# Crear y entrenar el modelo de SVM con hiperparámetros ajustados\n",
        "modelo5 = SVC(kernel='linear', C=1.0, gamma='scale')\n",
        "modelo5.fit(X_train, y_train)\n",
        "\n",
        "# Predecir las etiquetas para los datos de prueba\n",
        "y_pred = modelo5.predict(X_test)\n",
        "\n",
        "# Calcular la precisión del modelo\n",
        "precision = accuracy_score(y_test, y_pred)\n",
        "print(\"Precisión del modelo5:\", precision)\n"
      ]
    },
    {
      "cell_type": "code",
      "execution_count": null,
      "metadata": {
        "id": "XKQNSOxuvoJ6"
      },
      "outputs": [],
      "source": [
        "#from joblib import dump\n",
        "\n",
        "# Guardar el modelo entrenado en un archivo\n",
        "#dump(modelo5, '/content/drive/MyDrive/Proyecto IA/Modelos/modelo5.pkl')"
      ]
    },
    {
      "cell_type": "code",
      "execution_count": null,
      "metadata": {
        "id": "KlzyOcYwgJ_7"
      },
      "outputs": [],
      "source": [
        "from sklearn.svm import SVC\n",
        "from sklearn.model_selection import train_test_split\n",
        "from sklearn.metrics import accuracy_score\n",
        "\n",
        "# Preparar los datos de entrenamiento y prueba\n",
        "\n",
        "# Crear y entrenar el modelo de SVM con hiperparámetros ajustados\n",
        "modelo4 = SVC()\n",
        "modelo4.fit(X_train, y_train)\n",
        "\n",
        "# Predecir las etiquetas para los datos de prueba\n",
        "y_pred = modelo5.predict(X_test)\n",
        "\n",
        "# Calcular la precisión del modelo\n",
        "precision = accuracy_score(y_test, y_pred)\n",
        "print(\"Precisión del modelo5:\", precision)"
      ]
    },
    {
      "cell_type": "code",
      "execution_count": null,
      "metadata": {
        "id": "ZaeIylEk37pE"
      },
      "outputs": [],
      "source": [
        "from joblib import dump\n",
        "\n",
        "# Guardar el modelo entrenado en un archivo\n",
        "dump(modelo5, '/content/drive/MyDrive/Proyecto IA/Modelos/modelo4bien.pkl')\n",
        "\n",
        "# Cargar el modelo desde el archivo\n",
        "#modelo1 = joblib.load('/content/drive/Modelos/modelo1.pkl')"
      ]
    },
    {
      "cell_type": "markdown",
      "source": [
        "##DeepLearning"
      ],
      "metadata": {
        "id": "0JqUGIO_xO3_"
      }
    },
    {
      "cell_type": "code",
      "source": [
        "from sklearn.preprocessing import LabelEncoder\n",
        "from tensorflow.keras.utils import to_categorical\n",
        "\n",
        "# Codificar las etiquetas a valores numéricos\n",
        "label_encoder = LabelEncoder()\n",
        "y_train_encoded = label_encoder.fit_transform(y_train)\n",
        "y_test_encoded = label_encoder.transform(y_test)"
      ],
      "metadata": {
        "id": "89is0yQMxcNw"
      },
      "execution_count": null,
      "outputs": []
    },
    {
      "cell_type": "code",
      "source": [
        "modeldeep = tf.keras.Sequential([\n",
        "    tf.keras.layers.Flatten(input_shape=(48,48,1)),\n",
        "    tf.keras.layers.Dense(512, activation=tf.nn.relu),\n",
        "    tf.keras.layers.Dense(256, activation=tf.nn.relu),\n",
        "    tf.keras.layers.Dense(128, activation=tf.nn.relu),\n",
        "    tf.keras.layers.Dense(64, activation=tf.nn.relu),\n",
        "    tf.keras.layers.Dense(7, activation=tf.nn.softmax)\n",
        "])\n",
        "\n",
        "modeldeep.summary()"
      ],
      "metadata": {
        "id": "OsfLd5j1ywXP"
      },
      "execution_count": null,
      "outputs": []
    },
    {
      "cell_type": "code",
      "source": [
        "label_encoder = LabelEncoder()\n",
        "y_train_encoded = label_encoder.fit_transform(y_train)\n",
        "y_test_encoded = label_encoder.transform(y_test)\n",
        "\n",
        "y_train_onehot = to_categorical(y_train_encoded)\n",
        "y_test_onehot = to_categorical(y_test_encoded)\n",
        "\n",
        "modeldeep.compile(optimizer=tf.keras.optimizers.SGD(learning_rate=0.01),\n",
        "                  loss='categorical_crossentropy',\n",
        "                  metrics=['accuracy'])\n",
        "\n",
        "modeldeep.fit(X_train, y_train_onehot, epochs=100)\n"
      ],
      "metadata": {
        "id": "snkuYM7iyGUw"
      },
      "execution_count": null,
      "outputs": []
    },
    {
      "cell_type": "code",
      "source": [
        "# Preparar los datos de validación\n",
        "X_val = datosV\n",
        "\n",
        "# Realizar predicciones en los datos de validación\n",
        "y_pred_val = modeldeep.predict(X_val)\n",
        "\n",
        "# Convertir las probabilidades de predicción en etiquetas predichas\n",
        "y_pred_labels = np.argmax(y_pred_val, axis=1)\n",
        "\n",
        "# Convertir las predicciones numéricas a etiquetas categóricas\n",
        "y_pred_labels_cat = label_encoder.inverse_transform(y_pred_labels)\n",
        "\n",
        "# Calcular la precisión en los datos de validación\n",
        "precision_val = accuracy_score(etiquetasV, y_pred_labels_cat)\n",
        "print(\"Precisión en los datos de validación:\", precision_val)\n",
        "\n",
        "\n",
        "\n",
        "num_imagenes_visualizar = 5  # Número de imágenes a visualizar\n",
        "visualizar_predicciones(datosV, etiquetasV, y_pred_labels_cat, num_imagenes_visualizar)"
      ],
      "metadata": {
        "id": "RtZaIUCZy0c8"
      },
      "execution_count": null,
      "outputs": []
    },
    {
      "cell_type": "code",
      "source": [
        "#from joblib import dump\n",
        "\n",
        "# Guardar el modelo entrenado en un archivo\n",
        "#dump(modeldeep, '/content/drive/MyDrive/Proyecto IA/Modelos/modeldeep.pkl')"
      ],
      "metadata": {
        "id": "CyAK1cd0zGGn"
      },
      "execution_count": null,
      "outputs": []
    },
    {
      "cell_type": "markdown",
      "source": [
        "##Aprendizaje no supervisado"
      ],
      "metadata": {
        "id": "chgGHRaFu-2e"
      }
    },
    {
      "cell_type": "code",
      "source": [
        "import numpy as np\n",
        "from sklearn.cluster import AgglomerativeClustering, KMeans\n",
        "from sklearn.decomposition import PCA\n",
        "from sklearn.datasets import fetch_openml\n",
        "import matplotlib.pyplot as plt\n",
        "\n",
        "\n",
        "X = imagenes\n",
        "y = etiquetas\n",
        "\n",
        "# Seleccionar una muestra de datos para acelerar el proceso\n",
        "sample_size = 30000\n",
        "X = X[:sample_size]\n",
        "y = y[:sample_size]\n",
        "\n",
        "# Reshape de las imágenes aplanadas a su forma original\n",
        "X_images = X.reshape((-1, 48, 48))\n",
        "\n",
        "# Aplanar las imágenes\n",
        "X_flattened = X.reshape((-1, 48 * 48))\n",
        "\n",
        "# Realizar el agrupamiento con Agglomerative Clustering\n",
        "agglomerative = AgglomerativeClustering(n_clusters=3)\n",
        "agglomerative_labels = agglomerative.fit_predict(X_flattened)\n",
        "\n",
        "# Realizar el agrupamiento con K-means\n",
        "kmeans = KMeans(n_clusters=3)\n",
        "kmeans_labels = kmeans.fit_predict(X_flattened)\n",
        "\n",
        "# Reducir la dimensionalidad para visualizar los resultados\n",
        "pca = PCA(n_components=2)\n",
        "X_pca = pca.fit_transform(X_flattened)\n",
        "\n"
      ],
      "metadata": {
        "id": "whdM8c0kOJqL"
      },
      "execution_count": null,
      "outputs": []
    },
    {
      "cell_type": "code",
      "source": [
        "from joblib import dump\n",
        "\n",
        "#Guardar el modelo entrenado en un archivo\n",
        "dump(agglomerative_labels, '/content/drive/MyDrive/Proyecto IA/Modelos/agglomerative_labels.pkl')\n",
        "dump(kmeans_labels, '/content/drive/MyDrive/Proyecto IA/Modelos/kmeans_labels.pkl')"
      ],
      "metadata": {
        "id": "ebUw3Snr5mfo"
      },
      "execution_count": null,
      "outputs": []
    }
  ],
  "metadata": {
    "colab": {
      "collapsed_sections": [
        "EGcUzayBAruj"
      ],
      "provenance": []
    },
    "kernelspec": {
      "display_name": "Python 3",
      "name": "python3"
    },
    "language_info": {
      "name": "python"
    }
  },
  "nbformat": 4,
  "nbformat_minor": 0
}