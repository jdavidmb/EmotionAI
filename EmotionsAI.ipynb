{
  "cells": [
    {
      "cell_type": "markdown",
      "metadata": {
        "id": "oq5reK7Kem8t"
      },
      "source": [
        "##Emotion detection:\n",
        "https://www.kaggle.com/datasets/ananthu017/emotion-detection-fer\n",
        "\n",
        "Tamaño: 35.9k\n",
        "\n",
        "\n",
        "\n",
        "*   Train: 24.282\n",
        "    * Angry: 3995\n",
        "    * Disgusted: 436\n",
        "    * Fearful: 4097\n",
        "    * Happy: 7215\n",
        "    * Neutral: 4965\n",
        "    * Sad: 4830\n",
        "    * surprised: 3171\n",
        "\n",
        "*   Test: 7178\n",
        "\n",
        "\n",
        "\n",
        "\n",
        "\n",
        "\n"
      ]
    },
    {
      "cell_type": "code",
      "execution_count": null,
      "metadata": {
        "id": "aAGVozZU9RI9"
      },
      "outputs": [],
      "source": [
        "#@title **Load libs** { display-mode: \"form\" }\n",
        "import os\n",
        "import pandas as pd\n",
        "import numpy as np\n",
        "import random\n",
        "import matplotlib.pyplot as plt\n",
        "import seaborn as sns\n",
        "sns.set_theme()\n"
      ]
    },
    {
      "cell_type": "code",
      "execution_count": null,
      "metadata": {
        "id": "vMBl6KA7t4L3"
      },
      "outputs": [],
      "source": [
        "import numpy as np\n",
        "from sklearn.naive_bayes import GaussianNB\n",
        "from sklearn.model_selection import train_test_split\n",
        "from sklearn.metrics import accuracy_score\n",
        "import matplotlib.pyplot as plt\n"
      ]
    },
    {
      "cell_type": "code",
      "execution_count": null,
      "metadata": {
        "colab": {
          "base_uri": "https://localhost:8080/"
        },
        "id": "QjjnV5Ii83jt",
        "outputId": "020de340-cb6b-400d-bb96-fa824c21f315"
      },
      "outputs": [
        {
          "output_type": "stream",
          "name": "stdout",
          "text": [
            "Mounted at /content/drive\n",
            "/content/drive/.shortcut-targets-by-id/1RJdbXAWiwID162JN0IevNCxkN1GB4qOj/Proyecto IA\n"
          ]
        }
      ],
      "source": [
        "#@title **MONTAR EL DRIVE** { display-mode: \"form\" }\n",
        "import os\n",
        "from google.colab import drive\n",
        "\n",
        "path_ai = \"Proyecto IA\" #@param {type:\"string\"}\n",
        "path = \"/content/drive/My Drive/\" + path_ai\n",
        "drive.mount('/content/drive')\n",
        "os.chdir(path)\n",
        "print(os.getcwd())"
      ]
    },
    {
      "cell_type": "markdown",
      "metadata": {
        "id": "EGcUzayBAruj"
      },
      "source": [
        "#Conectar con kaggle (despues de ejecutarse una vez ya no es necesario)"
      ]
    },
    {
      "cell_type": "code",
      "execution_count": null,
      "metadata": {
        "colab": {
          "base_uri": "https://localhost:8080/"
        },
        "id": "yh29gfm8ysif",
        "outputId": "15b04451-3646-411d-cdb6-dca4f19ec945"
      },
      "outputs": [
        {
          "output_type": "stream",
          "name": "stdout",
          "text": [
            "Requirement already satisfied: kaggle in /usr/local/lib/python3.10/dist-packages (1.5.15)\n",
            "Requirement already satisfied: six>=1.10 in /usr/local/lib/python3.10/dist-packages (from kaggle) (1.16.0)\n",
            "Requirement already satisfied: certifi in /usr/local/lib/python3.10/dist-packages (from kaggle) (2023.5.7)\n",
            "Requirement already satisfied: python-dateutil in /usr/local/lib/python3.10/dist-packages (from kaggle) (2.8.2)\n",
            "Requirement already satisfied: requests in /usr/local/lib/python3.10/dist-packages (from kaggle) (2.27.1)\n",
            "Requirement already satisfied: tqdm in /usr/local/lib/python3.10/dist-packages (from kaggle) (4.65.0)\n",
            "Requirement already satisfied: python-slugify in /usr/local/lib/python3.10/dist-packages (from kaggle) (8.0.1)\n",
            "Requirement already satisfied: urllib3 in /usr/local/lib/python3.10/dist-packages (from kaggle) (1.26.16)\n",
            "Requirement already satisfied: bleach in /usr/local/lib/python3.10/dist-packages (from kaggle) (6.0.0)\n",
            "Requirement already satisfied: webencodings in /usr/local/lib/python3.10/dist-packages (from bleach->kaggle) (0.5.1)\n",
            "Requirement already satisfied: text-unidecode>=1.3 in /usr/local/lib/python3.10/dist-packages (from python-slugify->kaggle) (1.3)\n",
            "Requirement already satisfied: charset-normalizer~=2.0.0 in /usr/local/lib/python3.10/dist-packages (from requests->kaggle) (2.0.12)\n",
            "Requirement already satisfied: idna<4,>=2.5 in /usr/local/lib/python3.10/dist-packages (from requests->kaggle) (3.4)\n"
          ]
        }
      ],
      "source": [
        "!pip install kaggle"
      ]
    },
    {
      "cell_type": "code",
      "execution_count": null,
      "metadata": {
        "colab": {
          "base_uri": "https://localhost:8080/"
        },
        "id": "6tDQg_qaFSaT",
        "outputId": "a23ab047-81ba-451a-d734-b077c72325df"
      },
      "outputs": [
        {
          "output_type": "stream",
          "name": "stdout",
          "text": [
            "{\"username\":\"carlosg0328\",\"key\":\"47e18ba5eb4c048c4556b9bab3b8f6dd\"}\n"
          ]
        }
      ],
      "source": [
        "ruta_del_archivo = \"/content/drive/MyDrive/Proyecto IA/kaggle.json\"\n",
        "\n",
        "with open(ruta_del_archivo) as f:\n",
        "  # hacer algo con el archivo, como imprimir su contenido\n",
        "  print(f.read())"
      ]
    },
    {
      "cell_type": "code",
      "execution_count": null,
      "metadata": {
        "id": "F2htRN0azrjw"
      },
      "outputs": [],
      "source": [
        "!mkdir -p ~/.kaggle\n",
        "!cp kaggle.json ~/.kaggle/\n",
        "!chmod 600 ~/.kaggle/kaggle.json"
      ]
    },
    {
      "cell_type": "code",
      "execution_count": null,
      "metadata": {
        "colab": {
          "base_uri": "https://localhost:8080/"
        },
        "id": "FCwuPjjG0xN1",
        "outputId": "4d79943a-7b91-43fd-cf3c-0e1de9322ffe"
      },
      "outputs": [
        {
          "output_type": "stream",
          "name": "stdout",
          "text": [
            "emotion-detection-fer.zip: Skipping, found more recently modified local copy (use --force to force download)\n"
          ]
        }
      ],
      "source": [
        "\n",
        "!kaggle datasets download -d ananthu017/emotion-detection-fer"
      ]
    },
    {
      "cell_type": "code",
      "execution_count": null,
      "metadata": {
        "colab": {
          "base_uri": "https://localhost:8080/",
          "height": 363
        },
        "id": "prWBN44Y1PJJ",
        "outputId": "4989e575-6368-49c0-c89d-7d13b2db4b91"
      },
      "outputs": [
        {
          "output_type": "error",
          "ename": "KeyboardInterrupt",
          "evalue": "ignored",
          "traceback": [
            "\u001b[0;31m---------------------------------------------------------------------------\u001b[0m",
            "\u001b[0;31mKeyboardInterrupt\u001b[0m                         Traceback (most recent call last)",
            "\u001b[0;32m<ipython-input-8-a6b71400b60f>\u001b[0m in \u001b[0;36m<cell line: 3>\u001b[0;34m()\u001b[0m\n\u001b[1;32m      2\u001b[0m \u001b[0mfile_name\u001b[0m \u001b[0;34m=\u001b[0m \u001b[0;34m\"emotion-detection-fer.zip\"\u001b[0m\u001b[0;34m\u001b[0m\u001b[0;34m\u001b[0m\u001b[0m\n\u001b[1;32m      3\u001b[0m \u001b[0;32mwith\u001b[0m \u001b[0mZipFile\u001b[0m\u001b[0;34m(\u001b[0m\u001b[0mfile_name\u001b[0m\u001b[0;34m,\u001b[0m\u001b[0;34m\"r\"\u001b[0m\u001b[0;34m)\u001b[0m \u001b[0;32mas\u001b[0m \u001b[0mzip\u001b[0m\u001b[0;34m:\u001b[0m\u001b[0;34m\u001b[0m\u001b[0;34m\u001b[0m\u001b[0m\n\u001b[0;32m----> 4\u001b[0;31m   \u001b[0mzip\u001b[0m\u001b[0;34m.\u001b[0m\u001b[0mextractall\u001b[0m\u001b[0;34m(\u001b[0m\u001b[0;34m)\u001b[0m\u001b[0;34m\u001b[0m\u001b[0;34m\u001b[0m\u001b[0m\n\u001b[0m\u001b[1;32m      5\u001b[0m   \u001b[0mprint\u001b[0m\u001b[0;34m(\u001b[0m\u001b[0;34m\"done\"\u001b[0m\u001b[0;34m)\u001b[0m\u001b[0;34m\u001b[0m\u001b[0;34m\u001b[0m\u001b[0m\n",
            "\u001b[0;32m/usr/lib/python3.10/zipfile.py\u001b[0m in \u001b[0;36mextractall\u001b[0;34m(self, path, members, pwd)\u001b[0m\n\u001b[1;32m   1645\u001b[0m \u001b[0;34m\u001b[0m\u001b[0m\n\u001b[1;32m   1646\u001b[0m         \u001b[0;32mfor\u001b[0m \u001b[0mzipinfo\u001b[0m \u001b[0;32min\u001b[0m \u001b[0mmembers\u001b[0m\u001b[0;34m:\u001b[0m\u001b[0;34m\u001b[0m\u001b[0;34m\u001b[0m\u001b[0m\n\u001b[0;32m-> 1647\u001b[0;31m             \u001b[0mself\u001b[0m\u001b[0;34m.\u001b[0m\u001b[0m_extract_member\u001b[0m\u001b[0;34m(\u001b[0m\u001b[0mzipinfo\u001b[0m\u001b[0;34m,\u001b[0m \u001b[0mpath\u001b[0m\u001b[0;34m,\u001b[0m \u001b[0mpwd\u001b[0m\u001b[0;34m)\u001b[0m\u001b[0;34m\u001b[0m\u001b[0;34m\u001b[0m\u001b[0m\n\u001b[0m\u001b[1;32m   1648\u001b[0m \u001b[0;34m\u001b[0m\u001b[0m\n\u001b[1;32m   1649\u001b[0m     \u001b[0;34m@\u001b[0m\u001b[0mclassmethod\u001b[0m\u001b[0;34m\u001b[0m\u001b[0;34m\u001b[0m\u001b[0m\n",
            "\u001b[0;32m/usr/lib/python3.10/zipfile.py\u001b[0m in \u001b[0;36m_extract_member\u001b[0;34m(self, member, targetpath, pwd)\u001b[0m\n\u001b[1;32m   1700\u001b[0m         \u001b[0;32mwith\u001b[0m \u001b[0mself\u001b[0m\u001b[0;34m.\u001b[0m\u001b[0mopen\u001b[0m\u001b[0;34m(\u001b[0m\u001b[0mmember\u001b[0m\u001b[0;34m,\u001b[0m \u001b[0mpwd\u001b[0m\u001b[0;34m=\u001b[0m\u001b[0mpwd\u001b[0m\u001b[0;34m)\u001b[0m \u001b[0;32mas\u001b[0m \u001b[0msource\u001b[0m\u001b[0;34m,\u001b[0m\u001b[0;31m \u001b[0m\u001b[0;31m\\\u001b[0m\u001b[0;34m\u001b[0m\u001b[0;34m\u001b[0m\u001b[0m\n\u001b[1;32m   1701\u001b[0m              \u001b[0mopen\u001b[0m\u001b[0;34m(\u001b[0m\u001b[0mtargetpath\u001b[0m\u001b[0;34m,\u001b[0m \u001b[0;34m\"wb\"\u001b[0m\u001b[0;34m)\u001b[0m \u001b[0;32mas\u001b[0m \u001b[0mtarget\u001b[0m\u001b[0;34m:\u001b[0m\u001b[0;34m\u001b[0m\u001b[0;34m\u001b[0m\u001b[0m\n\u001b[0;32m-> 1702\u001b[0;31m             \u001b[0mshutil\u001b[0m\u001b[0;34m.\u001b[0m\u001b[0mcopyfileobj\u001b[0m\u001b[0;34m(\u001b[0m\u001b[0msource\u001b[0m\u001b[0;34m,\u001b[0m \u001b[0mtarget\u001b[0m\u001b[0;34m)\u001b[0m\u001b[0;34m\u001b[0m\u001b[0;34m\u001b[0m\u001b[0m\n\u001b[0m\u001b[1;32m   1703\u001b[0m \u001b[0;34m\u001b[0m\u001b[0m\n\u001b[1;32m   1704\u001b[0m         \u001b[0;32mreturn\u001b[0m \u001b[0mtargetpath\u001b[0m\u001b[0;34m\u001b[0m\u001b[0;34m\u001b[0m\u001b[0m\n",
            "\u001b[0;32m/usr/lib/python3.10/shutil.py\u001b[0m in \u001b[0;36mcopyfileobj\u001b[0;34m(fsrc, fdst, length)\u001b[0m\n\u001b[1;32m    185\u001b[0m                 \u001b[0mfdst_write\u001b[0m\u001b[0;34m(\u001b[0m\u001b[0mmv\u001b[0m\u001b[0;34m)\u001b[0m\u001b[0;34m\u001b[0m\u001b[0;34m\u001b[0m\u001b[0m\n\u001b[1;32m    186\u001b[0m \u001b[0;34m\u001b[0m\u001b[0m\n\u001b[0;32m--> 187\u001b[0;31m \u001b[0;32mdef\u001b[0m \u001b[0mcopyfileobj\u001b[0m\u001b[0;34m(\u001b[0m\u001b[0mfsrc\u001b[0m\u001b[0;34m,\u001b[0m \u001b[0mfdst\u001b[0m\u001b[0;34m,\u001b[0m \u001b[0mlength\u001b[0m\u001b[0;34m=\u001b[0m\u001b[0;36m0\u001b[0m\u001b[0;34m)\u001b[0m\u001b[0;34m:\u001b[0m\u001b[0;34m\u001b[0m\u001b[0;34m\u001b[0m\u001b[0m\n\u001b[0m\u001b[1;32m    188\u001b[0m     \u001b[0;34m\"\"\"copy data from file-like object fsrc to file-like object fdst\"\"\"\u001b[0m\u001b[0;34m\u001b[0m\u001b[0;34m\u001b[0m\u001b[0m\n\u001b[1;32m    189\u001b[0m     \u001b[0;31m# Localize variable access to minimize overhead.\u001b[0m\u001b[0;34m\u001b[0m\u001b[0;34m\u001b[0m\u001b[0m\n",
            "\u001b[0;31mKeyboardInterrupt\u001b[0m: "
          ]
        }
      ],
      "source": [
        "from zipfile import ZipFile\n",
        "file_name = \"emotion-detection-fer.zip\"\n",
        "with ZipFile(file_name,\"r\") as zip:\n",
        "  zip.extractall()\n",
        "  print(\"done\")\n"
      ]
    },
    {
      "cell_type": "markdown",
      "metadata": {
        "id": "9DTinGHb6NPT"
      },
      "source": [
        "#Cargar el dataset"
      ]
    },
    {
      "cell_type": "code",
      "execution_count": null,
      "metadata": {
        "colab": {
          "base_uri": "https://localhost:8080/"
        },
        "id": "hWzG7Phw6FaW",
        "outputId": "0a0c93a8-ffd5-4207-c08e-105bcd7639f4"
      },
      "outputs": [
        {
          "output_type": "stream",
          "name": "stdout",
          "text": [
            "Número de imágenes: 35380\n",
            "Número de etiquetas: 35380\n"
          ]
        }
      ],
      "source": [
        "import os\n",
        "import cv2\n",
        "import numpy as np\n",
        "\n",
        "def cargar_dataset(ruta_dataset):\n",
        "    imagenes = []\n",
        "    etiquetas = []\n",
        "\n",
        "    # Ruta completa de la carpeta \"train\"\n",
        "    ruta_train = os.path.join('/content/drive/MyDrive', ruta_dataset, 'train')\n",
        "\n",
        "    for nombre_clase in os.listdir(ruta_train):\n",
        "        carpeta_clase = os.path.join(ruta_train, nombre_clase)\n",
        "        if not os.path.isdir(carpeta_clase):\n",
        "            continue\n",
        "\n",
        "        for nombre_archivo in os.listdir(carpeta_clase):\n",
        "            archivo = os.path.join(carpeta_clase, nombre_archivo)\n",
        "            imagen = cv2.imread(archivo, cv2.IMREAD_GRAYSCALE)\n",
        "\n",
        "            if imagen is not None:\n",
        "                imagenes.append(imagen)\n",
        "                etiquetas.append(nombre_clase)\n",
        "\n",
        "    # Ruta completa de la carpeta \"test\"\n",
        "    ruta_test = os.path.join('/content/drive/MyDrive', ruta_dataset, 'test')\n",
        "\n",
        "    for nombre_clase in os.listdir(ruta_test):\n",
        "        carpeta_clase = os.path.join(ruta_test, nombre_clase)\n",
        "        if not os.path.isdir(carpeta_clase):\n",
        "            continue\n",
        "\n",
        "        for nombre_archivo in os.listdir(carpeta_clase):\n",
        "            archivo = os.path.join(carpeta_clase, nombre_archivo)\n",
        "            imagen = cv2.imread(archivo, cv2.IMREAD_GRAYSCALE)\n",
        "\n",
        "            if imagen is not None:\n",
        "                imagenes.append(imagen)\n",
        "                etiquetas.append(nombre_clase)\n",
        "\n",
        "    return np.array(imagenes), np.array(etiquetas)\n",
        "\n",
        "ruta_dataset = \"/content/drive/MyDrive/Proyecto IA\"  # Reemplaza con la ruta real de tu dataset en Google Drive\n",
        "\n",
        "imagenes, etiquetas = cargar_dataset(ruta_dataset)\n",
        "\n",
        "# Verificar el tamaño del dataset\n",
        "print(\"Número de imágenes:\", len(imagenes))\n",
        "print(\"Número de etiquetas:\", len(etiquetas))\n",
        "\n",
        "\n"
      ]
    },
    {
      "cell_type": "code",
      "execution_count": null,
      "metadata": {
        "colab": {
          "base_uri": "https://localhost:8080/"
        },
        "id": "IoH7SHDX6wFc",
        "outputId": "e7aba181-8a52-43d6-8451-55399dc585fb"
      },
      "outputs": [
        {
          "output_type": "stream",
          "name": "stdout",
          "text": [
            "Número de imágenes: 35660\n",
            "Número de etiquetas: 35660\n"
          ]
        }
      ],
      "source": [
        "from joblib import dump\n",
        "from joblib import load\n",
        "imagenes, etiquetas= load('/content/drive/MyDrive/Proyecto IA/ConjuntosDatos/dataset1.pkl')\n",
        "print(\"Número de imágenes:\", len(imagenes))\n",
        "print(\"Número de etiquetas:\", len(etiquetas))"
      ]
    },
    {
      "cell_type": "markdown",
      "metadata": {
        "id": "t8vmgpZZ8ewK"
      },
      "source": [
        "##Guardar los datos:"
      ]
    },
    {
      "cell_type": "code",
      "execution_count": null,
      "metadata": {
        "colab": {
          "base_uri": "https://localhost:8080/"
        },
        "id": "nf_xiED48hxE",
        "outputId": "e61b5c55-09c1-43dc-9dba-e9fd9492d253"
      },
      "outputs": [
        {
          "output_type": "execute_result",
          "data": {
            "text/plain": [
              "['/content/drive/MyDrive/Proyecto IA/ConjuntosDatos/dataset1.pkl']"
            ]
          },
          "metadata": {},
          "execution_count": 11
        }
      ],
      "source": [
        "from joblib import dump\n",
        "\n",
        "# Guardar el conjunto de datos en un archivo\n",
        "dump((imagenes, etiquetas), '/content/drive/MyDrive/Proyecto IA/ConjuntosDatos/dataset1.pkl')\n",
        "\n",
        "# Cargar el conjunto de datos desde el archivo\n",
        "#imagenes_cargadas, etiquetas_cargadas = joblib.load('/content/drive/MyDrive/Proyecto IA/ConjuntosDatos/dataset.pkl')"
      ]
    },
    {
      "cell_type": "code",
      "execution_count": null,
      "metadata": {
        "colab": {
          "base_uri": "https://localhost:8080/",
          "height": 259
        },
        "id": "STAbb9jjj0uZ",
        "outputId": "0ff0ac32-b143-4e8b-f6b4-c0cf4bbf8644"
      },
      "outputs": [
        {
          "output_type": "display_data",
          "data": {
            "text/plain": [
              "<Figure size 1500x500 with 5 Axes>"
            ],
            "image/png": "[encoded data removed]"
          },
          "metadata": {}
        }
      ],
      "source": [
        "import matplotlib.pyplot as plt\n",
        "\n",
        "def visualizar_imagenes(imagenes, etiquetas, num_imagenes):\n",
        "    clases = np.unique(etiquetas)\n",
        "\n",
        "    fig, axs = plt.subplots(1, num_imagenes, figsize=(15, 5))\n",
        "\n",
        "    for i in range(num_imagenes):\n",
        "        indice = np.random.randint(0, len(imagenes))\n",
        "        imagen = imagenes[indice]\n",
        "        etiqueta = etiquetas[indice]\n",
        "\n",
        "        axs[i].imshow(imagen, cmap='gray')\n",
        "        axs[i].set_title(etiqueta)\n",
        "        axs[i].axis('off')\n",
        "\n",
        "    plt.show()\n",
        "\n",
        "num_imagenes_visualizar = 5  # Número de imágenes a visualizar\n",
        "visualizar_imagenes(imagenes, etiquetas, num_imagenes_visualizar)\n"
      ]
    },
    {
      "cell_type": "code",
      "execution_count": null,
      "metadata": {
        "colab": {
          "base_uri": "https://localhost:8080/"
        },
        "id": "x5h9-qz-oeUg",
        "outputId": "b2b23474-543a-463a-e65b-ea02b123984a"
      },
      "outputs": [
        {
          "output_type": "stream",
          "name": "stdout",
          "text": [
            "Tamaño del conjunto de datos: 32094\n",
            "Tamaño del conjunto de validación: 3566\n"
          ]
        }
      ],
      "source": [
        "from sklearn.model_selection import train_test_split\n",
        "\n",
        "# Separar el 10% de los datos en una nueva variable\n",
        "datos, datosV, etiquetas, etiquetasV = train_test_split(imagenes, etiquetas, test_size=0.1, random_state=42)\n",
        "\n",
        "# Verificar el tamaño de los conjuntos de datos\n",
        "print(\"Tamaño del conjunto de datos:\", len(datos))\n",
        "print(\"Tamaño del conjunto de validación:\", len(datosV))\n"
      ]
    },
    {
      "cell_type": "code",
      "execution_count": null,
      "metadata": {
        "colab": {
          "base_uri": "https://localhost:8080/"
        },
        "id": "sOWucFX4LjbC",
        "outputId": "cdad2e41-f39f-4372-d74c-7eaf6753d7e7"
      },
      "outputs": [
        {
          "output_type": "execute_result",
          "data": {
            "text/plain": [
              "['/content/drive/MyDrive/Proyecto IA/ConjuntosDatos/datasetV.pkl']"
            ]
          },
          "metadata": {},
          "execution_count": 14
        }
      ],
      "source": [
        "from joblib import dump\n",
        "\n",
        "# Guardar el conjunto de datos en un archivo\n",
        "dump((datos, datosV, etiquetas, etiquetasV), '/content/drive/MyDrive/Proyecto IA/ConjuntosDatos/datasetV.pkl')\n"
      ]
    },
    {
      "cell_type": "code",
      "execution_count": null,
      "metadata": {
        "colab": {
          "base_uri": "https://localhost:8080/",
          "height": 356
        },
        "id": "fSntKypmLDiB",
        "outputId": "93175571-0a01-4057-de67-b0f4397decbc"
      },
      "outputs": [
        {
          "output_type": "error",
          "ename": "ImportError",
          "evalue": "ignored",
          "traceback": [
            "\u001b[0;31m---------------------------------------------------------------------------\u001b[0m",
            "\u001b[0;31mImportError\u001b[0m                               Traceback (most recent call last)",
            "\u001b[0;32m<ipython-input-15-87aaa7d46b60>\u001b[0m in \u001b[0;36m<cell line: 1>\u001b[0;34m()\u001b[0m\n\u001b[0;32m----> 1\u001b[0;31m \u001b[0;32mfrom\u001b[0m \u001b[0msklearn\u001b[0m\u001b[0;34m.\u001b[0m\u001b[0mexternals\u001b[0m \u001b[0;32mimport\u001b[0m \u001b[0mjoblib\u001b[0m\u001b[0;34m\u001b[0m\u001b[0;34m\u001b[0m\u001b[0m\n\u001b[0m\u001b[1;32m      2\u001b[0m \u001b[0;34m\u001b[0m\u001b[0m\n\u001b[1;32m      3\u001b[0m \u001b[0;31m# Guardar el conjunto de datos en un archivo\u001b[0m\u001b[0;34m\u001b[0m\u001b[0;34m\u001b[0m\u001b[0m\n\u001b[1;32m      4\u001b[0m \u001b[0mjoblib\u001b[0m\u001b[0;34m.\u001b[0m\u001b[0mdump\u001b[0m\u001b[0;34m(\u001b[0m\u001b[0;34m(\u001b[0m\u001b[0mdatos\u001b[0m\u001b[0;34m,\u001b[0m \u001b[0mdatosV\u001b[0m\u001b[0;34m,\u001b[0m \u001b[0metiquetas\u001b[0m\u001b[0;34m,\u001b[0m \u001b[0metiquetasV\u001b[0m\u001b[0;34m)\u001b[0m\u001b[0;34m,\u001b[0m \u001b[0;34m'/content/drive/MyDrive/Proyecto IA/ConjuntosDatos/dataset.pkl'\u001b[0m\u001b[0;34m)\u001b[0m\u001b[0;34m\u001b[0m\u001b[0;34m\u001b[0m\u001b[0m\n",
            "\u001b[0;31mImportError\u001b[0m: cannot import name 'joblib' from 'sklearn.externals' (/usr/local/lib/python3.10/dist-packages/sklearn/externals/__init__.py)",
            "",
            "\u001b[0;31m---------------------------------------------------------------------------\u001b[0;32m\nNOTE: If your import is failing due to a missing package, you can\nmanually install dependencies using either !pip or !apt.\n\nTo view examples of installing some common dependencies, click the\n\"Open Examples\" button below.\n\u001b[0;31m---------------------------------------------------------------------------\u001b[0m\n"
          ],
          "errorDetails": {
            "actions": [
              {
                "action": "open_url",
                "actionText": "Open Examples",
                "url": "/notebooks/snippets/importing_libraries.ipynb"
              }
            ]
          }
        }
      ],
      "source": [
        "from sklearn.externals import joblib\n",
        "\n",
        "# Guardar el conjunto de datos en un archivo\n",
        "joblib.dump((datos, datosV, etiquetas, etiquetasV), '/content/drive/MyDrive/Proyecto IA/ConjuntosDatos/dataset.pkl')"
      ]
    },
    {
      "cell_type": "code",
      "execution_count": null,
      "metadata": {
        "id": "Fuqe1yTJrO14"
      },
      "outputs": [],
      "source": [
        "print('x_train shape:', datosV.shape)"
      ]
    },
    {
      "cell_type": "code",
      "execution_count": null,
      "metadata": {
        "id": "5ySuoquJrpHD"
      },
      "outputs": [],
      "source": [
        "#@title **code** To normalize and prepare data\n",
        "datos = datos.reshape([-1, 48, 48, 1])\n",
        "datosV = datosV.reshape([-1, 48, 48, 1])\n",
        "##-1 es el batch, que indica que despues se puede poner cualquier cantidad de batchs, en cambio si ponemos 100, los batches seran de eso\n",
        "datos = datos.astype('float32')\n",
        "datosV  = datosV.astype('float32')\n",
        "\n",
        "datos /= 255\n",
        "datosV  /= 255\n",
        "print('x_train shape:', datos.shape)\n",
        "print('Number of images in x_train', datos.shape[0])\n",
        "print('Number of images in validacion',datosV .shape[0])"
      ]
    },
    {
      "cell_type": "code",
      "execution_count": null,
      "metadata": {
        "id": "01Pxpq6uoyni"
      },
      "outputs": [],
      "source": [
        "def visualizar_imagenes(imagenes, etiquetas, num_imagenes):\n",
        "    clases = np.unique(etiquetas)\n",
        "\n",
        "    fig, axs = plt.subplots(1, num_imagenes, figsize=(15, 5))\n",
        "\n",
        "    for i in range(num_imagenes):\n",
        "        indice = np.random.randint(0, len(imagenes))\n",
        "        imagen = imagenes[indice]\n",
        "        etiqueta = etiquetas[indice]\n",
        "\n",
        "        axs[i].imshow(imagen, cmap='gray')\n",
        "        axs[i].set_title(etiqueta)\n",
        "        axs[i].axis('off')\n",
        "\n",
        "    plt.show()\n",
        "\n",
        "num_imagenes_visualizar = 5  # Número de imágenes a visualizar\n",
        "visualizar_imagenes(datosV, etiquetasV, num_imagenes_visualizar)"
      ]
    },
    {
      "cell_type": "markdown",
      "metadata": {
        "id": "4CWfDdfzuQHd"
      },
      "source": [
        "#Modelos"
      ]
    },
    {
      "cell_type": "markdown",
      "metadata": {
        "id": "gamgq7houX9a"
      },
      "source": [
        "##Preparar los datos de entrenamiento y prueba"
      ]
    },
    {
      "cell_type": "code",
      "execution_count": null,
      "metadata": {
        "id": "Sygi9RIYue7q"
      },
      "outputs": [],
      "source": [
        "X_train, X_test, y_train, y_test = train_test_split(datos.reshape(len(datos), -1), etiquetas, test_size=0.3, random_state=22)"
      ]
    },
    {
      "cell_type": "markdown",
      "metadata": {
        "id": "S6OK3UxkkjgQ"
      },
      "source": [
        "##Modelo 1: Gaussian Naive Bayes"
      ]
    },
    {
      "cell_type": "code",
      "execution_count": null,
      "metadata": {
        "id": "Xe5-z79wkpBM"
      },
      "outputs": [],
      "source": [
        "import numpy as np\n",
        "from sklearn.naive_bayes import GaussianNB\n",
        "from sklearn.model_selection import train_test_split\n",
        "from sklearn.metrics import accuracy_score\n",
        "\n",
        "# Preparar los datos de entrenamiento y prueba\n",
        "\n",
        "\n",
        "# Crear y entrenar el modelo Gaussian Naive Bayes\n",
        "modelo1 = GaussianNB()\n",
        "modelo1.fit(X_train, y_train)\n",
        "\n",
        "# Predecir las etiquetas para los datos de prueba\n",
        "y_pred = modelo1.predict(X_test)\n",
        "\n",
        "# Calcular la precisión del modelo\n",
        "precision = accuracy_score(y_test, y_pred)\n",
        "print(\"Precisión del modelo1:\", precision)\n"
      ]
    },
    {
      "cell_type": "code",
      "execution_count": null,
      "metadata": {
        "id": "agwrhOThL5wu"
      },
      "outputs": [],
      "source": []
    },
    {
      "cell_type": "code",
      "execution_count": null,
      "metadata": {
        "id": "fzAJJwkHAWSR"
      },
      "outputs": [],
      "source": [
        "from joblib import dump\n",
        "\n",
        "# Guardar el modelo entrenado en un archivo\n",
        "dump(modelo1, '/content/drive/MyDrive/Proyecto IA/Modelos/modelo1_1.pkl')\n",
        "\n",
        "# Cargar el modelo desde el archivo\n",
        "#modelo1 = joblib.load('/content/drive/Modelos/modelo1.pkl')\n"
      ]
    },
    {
      "cell_type": "code",
      "execution_count": null,
      "metadata": {
        "id": "FAiejDmBt7tE"
      },
      "outputs": [],
      "source": [
        "# Preparar los datos de validación\n",
        "X_val = datosV.reshape(len(datosV), -1)\n",
        "\n",
        "# Realizar predicciones en los datos de validación\n",
        "y_pred_val = modelo1.predict(X_val)\n",
        "\n",
        "# Calcular la precisión en los datos de validación\n",
        "precision_val = accuracy_score(etiquetasV, y_pred_val)\n",
        "print(\"Precisión en los datos de validación:\", precision_val)\n",
        "\n",
        "# Visualizar algunas imágenes del conjunto de validación junto con las predicciones del modelo\n",
        "def visualizar_predicciones(imagenes, etiquetas, predicciones, num_imagenes):\n",
        "    clases = np.unique(etiquetas)\n",
        "\n",
        "    fig, axs = plt.subplots(1, num_imagenes, figsize=(15, 5))\n",
        "\n",
        "    for i in range(num_imagenes):\n",
        "        indice = np.random.randint(0, len(imagenes))\n",
        "        imagen = imagenes[indice]\n",
        "        etiqueta = etiquetas[indice]\n",
        "        prediccion = predicciones[indice]\n",
        "\n",
        "        axs[i].imshow(imagen, cmap='gray')\n",
        "        axs[i].set_title(f\"Etiqueta: {etiqueta}\\nPredicción: {prediccion}\")\n",
        "        axs[i].axis('off')\n",
        "\n",
        "    plt.show()\n",
        "\n",
        "num_imagenes_visualizar = 5  # Número de imágenes a visualizar\n",
        "visualizar_predicciones(datosV, etiquetasV, y_pred_val, num_imagenes_visualizar)\n"
      ]
    },
    {
      "cell_type": "markdown",
      "metadata": {
        "id": "SDt_Otx_ukey"
      },
      "source": [
        "##Modelo 2: Decision Tree"
      ]
    },
    {
      "cell_type": "code",
      "execution_count": null,
      "metadata": {
        "id": "rBP-1stXurYA"
      },
      "outputs": [],
      "source": [
        "from sklearn.tree import DecisionTreeClassifier\n",
        "\n",
        "\n",
        "modelo2 = DecisionTreeClassifier(max_depth=8)##que tan grande haga los arboles\n",
        "\n",
        "modelo2.fit(X_train,y_train)\n",
        "print(accuracy_score(modelo2.predict(X_test), y_test))"
      ]
    },
    {
      "cell_type": "code",
      "execution_count": null,
      "metadata": {
        "id": "tZBH3DRFE8xs"
      },
      "outputs": [],
      "source": [
        "from joblib import dump\n",
        "\n",
        "# Guardar el modelo entrenado en un archivo\n",
        "dump(modelo2, '/content/drive/MyDrive/Proyecto IA/Modelos/modelo2_2.pkl')\n",
        "\n"
      ]
    },
    {
      "cell_type": "code",
      "execution_count": null,
      "metadata": {
        "id": "HUr6UxbWEOB1"
      },
      "outputs": [],
      "source": [
        "from sklearn.externals import joblib\n",
        "\n",
        "# Guardar el modelo entrenado en un archivo\n",
        "joblib.dump(modelo2, '/content/drive/Modelos/modelo2.pkl')\n",
        "\n",
        "# Cargar el modelo desde el archivo\n",
        "#modelo1 = joblib.load('/content/drive/Modelos/modelo1.pkl')"
      ]
    },
    {
      "cell_type": "code",
      "execution_count": null,
      "metadata": {
        "id": "JxKBkXrowQGa"
      },
      "outputs": [],
      "source": [
        "# Preparar los datos de validación\n",
        "X_val = datosV.reshape(len(datosV), -1)\n",
        "\n",
        "# Realizar predicciones en los datos de validación\n",
        "y_pred_val = modelo2.predict(X_val)\n",
        "\n",
        "# Calcular la precisión en los datos de validación\n",
        "precision_val = accuracy_score(etiquetasV, y_pred_val)\n",
        "print(\"Precisión en los datos de validación:\", precision_val)\n",
        "\n",
        "# Visualizar algunas imágenes del conjunto de validación junto con las predicciones del modelo\n",
        "def visualizar_predicciones(imagenes, etiquetas, predicciones, num_imagenes):\n",
        "    clases = np.unique(etiquetas)\n",
        "\n",
        "    fig, axs = plt.subplots(1, num_imagenes, figsize=(15, 5))\n",
        "\n",
        "    for i in range(num_imagenes):\n",
        "        indice = np.random.randint(0, len(imagenes))\n",
        "        imagen = imagenes[indice]\n",
        "        etiqueta = etiquetas[indice]\n",
        "        prediccion = predicciones[indice]\n",
        "\n",
        "        axs[i].imshow(imagen, cmap='gray')\n",
        "        axs[i].set_title(f\"Etiqueta: {etiqueta}\\nPredicción: {prediccion}\")\n",
        "        axs[i].axis('off')\n",
        "\n",
        "    plt.show()\n",
        "\n",
        "num_imagenes_visualizar = 5  # Número de imágenes a visualizar\n",
        "visualizar_predicciones(datosV, etiquetasV, y_pred_val, num_imagenes_visualizar)"
      ]
    },
    {
      "cell_type": "markdown",
      "metadata": {
        "id": "FfJEqt5Dxb30"
      },
      "source": [
        "##Modelo 3: Random Forest"
      ]
    },
    {
      "cell_type": "code",
      "execution_count": null,
      "metadata": {
        "id": "3WEZufXPxe0s"
      },
      "outputs": [],
      "source": [
        "from sklearn.ensemble import RandomForestClassifier\n",
        "from sklearn.metrics import accuracy_score\n",
        "\n",
        "# Crear y entrenar el modelo de Random Forest\n",
        "modelo3 = RandomForestClassifier(n_estimators=100, random_state=42)\n",
        "modelo3.fit(X_train, y_train)\n",
        "\n",
        "# Predecir las etiquetas para los datos de prueba\n",
        "y_pred = modelo3.predict(X_test)\n",
        "\n",
        "# Calcular la precisión del modelo\n",
        "precision = accuracy_score(y_test, y_pred)\n",
        "print(\"Precisión del modelo de Random Forest:\", precision)\n"
      ]
    },
    {
      "cell_type": "code",
      "execution_count": null,
      "metadata": {
        "id": "Q6eyE5KqFEU8"
      },
      "outputs": [],
      "source": [
        "from joblib import dump\n",
        "\n",
        "# Guardar el modelo entrenado en un archivo\n",
        "dump(modelo3, '/content/drive/MyDrive/Proyecto IA/Modelos/modelo3_3.pkl')\n",
        "\n",
        "# Cargar el modelo desde el archivo\n",
        "#modelo1 = joblib.load('/content/drive/Modelos/modelo1.pkl')"
      ]
    },
    {
      "cell_type": "code",
      "execution_count": null,
      "metadata": {
        "id": "93nvxqSGyB4f"
      },
      "outputs": [],
      "source": [
        "# Preparar los datos de validación\n",
        "X_val = datosV.reshape(len(datosV), -1)\n",
        "\n",
        "# Realizar predicciones en los datos de validación\n",
        "y_pred_val = modelo3.predict(X_val)\n",
        "\n",
        "# Calcular la precisión en los datos de validación\n",
        "precision_val = accuracy_score(etiquetasV, y_pred_val)\n",
        "print(\"Precisión en los datos de validación:\", precision_val)\n",
        "\n",
        "# Visualizar algunas imágenes del conjunto de validación junto con las predicciones del modelo\n",
        "def visualizar_predicciones(imagenes, etiquetas, predicciones, num_imagenes):\n",
        "    clases = np.unique(etiquetas)\n",
        "\n",
        "    fig, axs = plt.subplots(1, num_imagenes, figsize=(15, 5))\n",
        "\n",
        "    for i in range(num_imagenes):\n",
        "        indice = np.random.randint(0, len(imagenes))\n",
        "        imagen = imagenes[indice]\n",
        "        etiqueta = etiquetas[indice]\n",
        "        prediccion = predicciones[indice]\n",
        "\n",
        "        axs[i].imshow(imagen, cmap='gray')\n",
        "        axs[i].set_title(f\"Etiqueta: {etiqueta}\\nPredicción: {prediccion}\")\n",
        "        axs[i].axis('off')\n",
        "\n",
        "    plt.show()\n",
        "\n",
        "num_imagenes_visualizar = 5  # Número de imágenes a visualizar\n",
        "visualizar_predicciones(datosV, etiquetasV, y_pred_val, num_imagenes_visualizar)"
      ]
    },
    {
      "cell_type": "markdown",
      "metadata": {
        "id": "Yo3ihSPLzcsb"
      },
      "source": [
        "##Modelo 4: Support Vector Machine"
      ]
    },
    {
      "cell_type": "code",
      "execution_count": null,
      "metadata": {
        "id": "qYTxKvywzx-e"
      },
      "outputs": [],
      "source": [
        "from sklearn.svm import SVC\n",
        "from sklearn.metrics import accuracy_score\n",
        "\n",
        "# Crear y entrenar el modelo de SVM\n",
        "modelo4 = SVC(kernel='poly', degree=2, gamma=0.1)\n",
        "modelo4.fit(X_train, y_train)\n",
        "\n",
        "# Predecir las etiquetas para los datos de prueba\n",
        "y_pred = modelo4.predict(X_test)\n",
        "\n",
        "# Calcular la precisión del modelo\n",
        "precision = accuracy_score(y_test, y_pred)\n",
        "print(\"Precisión del modelo de SVM:\", precision)\n"
      ]
    },
    {
      "cell_type": "code",
      "execution_count": null,
      "metadata": {
        "id": "LT0B-RpsFI7P"
      },
      "outputs": [],
      "source": [
        "from joblib import dump\n",
        "\n",
        "# Guardar el modelo entrenado en un archivo\n",
        "dump(modelo4, '/content/drive/MyDrive/Proyecto IA/Modelos/modelo4.pkl')\n",
        "\n",
        "# Cargar el modelo desde el archivo\n",
        "#modelo1 = joblib.load('/content/drive/Modelos/modelo1.pkl')"
      ]
    },
    {
      "cell_type": "code",
      "execution_count": null,
      "metadata": {
        "id": "NBpKEz-Uz-H7"
      },
      "outputs": [],
      "source": [
        "# Preparar los datos de validación\n",
        "X_val = datosV.reshape(len(datosV), -1)\n",
        "\n",
        "# Realizar predicciones en los datos de validación\n",
        "y_pred_val = modelo4.predict(X_val)\n",
        "\n",
        "# Calcular la precisión en los datos de validación\n",
        "precision_val = accuracy_score(etiquetasV, y_pred_val)\n",
        "print(\"Precisión en los datos de validación:\", precision_val)\n",
        "\n",
        "# Visualizar algunas imágenes del conjunto de validación junto con las predicciones del modelo\n",
        "def visualizar_predicciones(imagenes, etiquetas, predicciones, num_imagenes):\n",
        "    clases = np.unique(etiquetas)\n",
        "\n",
        "    fig, axs = plt.subplots(1, num_imagenes, figsize=(15, 5))\n",
        "\n",
        "    for i in range(num_imagenes):\n",
        "        indice = np.random.randint(0, len(imagenes))\n",
        "        imagen = imagenes[indice]\n",
        "        etiqueta = etiquetas[indice]\n",
        "        prediccion = predicciones[indice]\n",
        "\n",
        "        axs[i].imshow(imagen, cmap='gray')\n",
        "        axs[i].set_title(f\"Etiqueta: {etiqueta}\\nPredicción: {prediccion}\")\n",
        "        axs[i].axis('off')\n",
        "\n",
        "    plt.show()\n",
        "\n",
        "num_imagenes_visualizar = 5  # Número de imágenes a visualizar\n",
        "visualizar_predicciones(datosV, etiquetasV, y_pred_val, num_imagenes_visualizar)"
      ]
    },
    {
      "cell_type": "code",
      "execution_count": null,
      "metadata": {
        "id": "bBm1gA20mnoP"
      },
      "outputs": [],
      "source": [
        "from sklearn.svm import SVC\n",
        "from sklearn.model_selection import train_test_split\n",
        "from sklearn.metrics import accuracy_score\n",
        "\n",
        "# Preparar los datos de entrenamiento y prueba\n",
        "\n",
        "# Crear y entrenar el modelo de SVM con hiperparámetros ajustados\n",
        "modelo5 = SVC(kernel='poly', degree=2, gamma=0.1)\n",
        "modelo5.fit(X_train, y_train)\n",
        "\n",
        "# Predecir las etiquetas para los datos de prueba\n",
        "y_pred = modelo5.predict(X_test)\n",
        "\n",
        "# Calcular la precisión del modelo\n",
        "precision = accuracy_score(y_test, y_pred)\n",
        "print(\"Precisión del modelo5:\", precision)\n"
      ]
    },
    {
      "cell_type": "code",
      "execution_count": null,
      "metadata": {
        "id": "YtOFCY8i7Uzw"
      },
      "outputs": [],
      "source": [
        "from sklearn.svm import SVC\n",
        "from sklearn.model_selection import train_test_split\n",
        "from sklearn.metrics import accuracy_score\n",
        "\n",
        "\n",
        "\n",
        "# Crear y entrenar el modelo de SVM con hiperparámetros ajustados\n",
        "modelo5 = SVC(kernel='linear', C=1.0, gamma='scale')\n",
        "modelo5.fit(X_train, y_train)\n",
        "\n",
        "# Predecir las etiquetas para los datos de prueba\n",
        "y_pred = modelo5.predict(X_test)\n",
        "\n",
        "# Calcular la precisión del modelo\n",
        "precision = accuracy_score(y_test, y_pred)\n",
        "print(\"Precisión del modelo5:\", precision)\n"
      ]
    },
    {
      "cell_type": "code",
      "execution_count": null,
      "metadata": {
        "id": "XKQNSOxuvoJ6"
      },
      "outputs": [],
      "source": [
        "rlo"
      ]
    },
    {
      "cell_type": "code",
      "execution_count": null,
      "metadata": {
        "id": "pAcGdq7h8DsM"
      },
      "outputs": [],
      "source": [
        "from joblib import dump\n",
        "\n",
        "# Guardar el modelo entrenado en un archivo\n",
        "dump(modelo5, '/content/drive/MyDrive/Proyecto IA/Modelos/modelo5.pkl')\n",
        "\n",
        "# Cargar el modelo desde el archivo\n",
        "#modelo1 = joblib.load('/content/drive/Modelos/modelo1.pkl')"
      ]
    },
    {
      "cell_type": "code",
      "execution_count": null,
      "metadata": {
        "id": "KlzyOcYwgJ_7"
      },
      "outputs": [],
      "source": [
        "from sklearn.svm import SVC\n",
        "from sklearn.model_selection import train_test_split\n",
        "from sklearn.metrics import accuracy_score\n",
        "\n",
        "# Preparar los datos de entrenamiento y prueba\n",
        "\n",
        "# Crear y entrenar el modelo de SVM con hiperparámetros ajustados\n",
        "modelo5 = SVC()\n",
        "modelo5.fit(X_train, y_train)\n",
        "\n",
        "# Predecir las etiquetas para los datos de prueba\n",
        "y_pred = modelo5.predict(X_test)\n",
        "\n",
        "# Calcular la precisión del modelo\n",
        "precision = accuracy_score(y_test, y_pred)\n",
        "print(\"Precisión del modelo5:\", precision)"
      ]
    },
    {
      "cell_type": "code",
      "source": [],
      "metadata": {
        "id": "avz1Uo8IwxCK"
      },
      "execution_count": null,
      "outputs": []
    },
    {
      "cell_type": "code",
      "execution_count": null,
      "metadata": {
        "id": "mytf3yFR9LOE"
      },
      "outputs": [],
      "source": [
        "from sklearn.svm import SVC\n",
        "from sklearn.model_selection import train_test_split, GridSearchCV\n",
        "from sklearn.metrics import accuracy_score\n",
        "\n",
        "# Aumentar el tamaño del conjunto de entrenamiento\n",
        "X_train_large, _, y_train_large, _ = train_test_split(X_train, y_train, train_size=0.8, random_state=22)\n",
        "\n",
        "# Definir los hiperparámetros a ajustar\n",
        "param_grid = {\n",
        "    'C': [0.1, 1],\n",
        "    'gamma': [0.01, 0.1],\n",
        "    'degree': [2, 3]\n",
        "}\n",
        "\n",
        "\n",
        "# Crear el modelo de SVM\n",
        "modelo = SVC(kernel='poly')\n",
        "\n",
        "# Realizar la búsqueda de hiperparámetros utilizando validación cruzada\n",
        "modelo_cv = GridSearchCV(modelo, param_grid, cv=5)\n",
        "modelo_cv.fit(X_train_large, y_train_large)\n",
        "\n",
        "# Obtener el mejor modelo y sus hiperparámetros\n",
        "modelo_optimo = modelo_cv.best_estimator_\n",
        "mejores_hiperparametros = modelo_cv.best_params_\n",
        "\n",
        "# Predecir las etiquetas para los datos de prueba\n",
        "y_pred = modelo_optimo.predict(X_test)\n",
        "\n",
        "# Calcular la precisión del modelo\n",
        "precision = accuracy_score(y_test, y_pred)\n",
        "print(\"Precisión del modelo optimizado:\", precision)\n",
        "print(\"Mejores hiperparámetros:\", mejores_hiperparametros)\n"
      ]
    },
    {
      "cell_type": "code",
      "execution_count": null,
      "metadata": {
        "id": "ZaeIylEk37pE"
      },
      "outputs": [],
      "source": [
        "from joblib import dump\n",
        "\n",
        "# Guardar el modelo entrenado en un archivo\n",
        "dump(modelo5, '/content/drive/MyDrive/Proyecto IA/Modelos/modelo4bien.pkl')\n",
        "\n",
        "# Cargar el modelo desde el archivo\n",
        "#modelo1 = joblib.load('/content/drive/Modelos/modelo1.pkl')"
      ]
    },
    {
      "cell_type": "code",
      "source": [
        "import numpy as np\n",
        "from sklearn.cluster import AgglomerativeClustering, KMeans\n",
        "from sklearn.decomposition import PCA\n",
        "from sklearn.datasets import fetch_openml\n",
        "import matplotlib.pyplot as plt\n",
        "\n",
        "\n",
        "X = imagenes\n",
        "y = etiquetas\n",
        "\n",
        "# Seleccionar una muestra de datos para acelerar el proceso\n",
        "sample_size = 30000\n",
        "X = X[:sample_size]\n",
        "y = y[:sample_size]\n",
        "\n",
        "# Reshape de las imágenes aplanadas a su forma original\n",
        "X_images = X.reshape((-1, 48, 48))\n",
        "\n",
        "# Aplanar las imágenes\n",
        "X_flattened = X.reshape((-1, 48 * 48))\n",
        "\n",
        "# Realizar el agrupamiento con Agglomerative Clustering\n",
        "agglomerative = AgglomerativeClustering(n_clusters=7)\n",
        "agglomerative_labels = agglomerative.fit_predict(X_flattened)\n",
        "\n",
        "# Realizar el agrupamiento con K-means\n",
        "kmeans = KMeans(n_clusters=7)\n",
        "kmeans_labels = kmeans.fit_predict(X_flattened)\n",
        "\n",
        "# Reducir la dimensionalidad para visualizar los resultados\n",
        "pca = PCA(n_components=2)\n",
        "X_pca = pca.fit_transform(X_flattened)\n",
        "\n",
        "# Definir colores para las clases\n",
        "class_colors = {\n",
        "    'angry': 'red',\n",
        "    'disgusted': 'blue',\n",
        "    'fearful': 'green',\n",
        "    'happy': 'orange',\n",
        "    'neutral': 'purple',\n",
        "    'sad': 'brown',\n",
        "    'surprised': 'pink',\n",
        "}\n",
        "\n",
        "# Visualizar los resultados con etiquetas verdaderas\n",
        "plt.scatter(X_pca[:, 0], X_pca[:, 1], c=[class_colors[label] for label in y], label='Etiquetas verdaderas')\n",
        "plt.title(\"Etiquetas verdaderas\")\n",
        "plt.xlabel(\"Componente Principal 1\")\n",
        "plt.ylabel(\"Componente Principal 2\")\n",
        "plt.legend()\n",
        "plt.show()\n",
        "\n",
        "# Visualizar los resultados del agrupamiento de Agglomerative Clustering\n",
        "plt.scatter(X_pca[:, 0], X_pca[:, 1], c=agglomerative_labels, cmap='viridis', label='Agglomerative Clustering')\n",
        "plt.title(\"Agglomerative Clustering\")\n",
        "plt.xlabel(\"Componente Principal 1\")\n",
        "plt.ylabel(\"Componente Principal 2\")\n",
        "plt.legend()\n",
        "plt.show()\n",
        "\n",
        "# Visualizar los resultados del agrupamiento de K-means\n",
        "plt.scatter(X_pca[:, 0], X_pca[:, 1], c=kmeans_labels, cmap='viridis', label='K-means')\n",
        "plt.title(\"K-means\")\n",
        "plt.xlabel(\"Componente Principal 1\")\n",
        "plt.ylabel(\"Componente Principal 2\")\n",
        "plt.legend()\n",
        "plt.show()"
      ],
      "metadata": {
        "id": "whdM8c0kOJqL"
      },
      "execution_count": null,
      "outputs": []
    },
    {
      "cell_type": "code",
      "source": [],
      "metadata": {
        "id": "HfNxbwUBOWFL"
      },
      "execution_count": null,
      "outputs": []
    },
    {
      "cell_type": "code",
      "source": [
        "X = imagenes\n",
        "y = etiquetas\n",
        "\n",
        "# Seleccionar una muestra de datos para acelerar el proceso\n",
        "sample_size = 30000\n",
        "X = X[:sample_size]\n",
        "y = y[:sample_size]\n",
        "\n",
        "# Reshape de las imágenes aplanadas a su forma original\n",
        "X_images = X.reshape((-1, 48, 48))\n",
        "\n",
        "# Aplanar las imágenes\n",
        "X_flattened = X.reshape((-1, 48 * 48))"
      ],
      "metadata": {
        "id": "4hUuMNc-OWil"
      },
      "execution_count": null,
      "outputs": []
    },
    {
      "cell_type": "code",
      "source": [
        "import numpy as np\n",
        "from sklearn.cluster import KMeans\n",
        "from sklearn.model_selection import train_test_split\n",
        "from sklearn.decomposition import PCA\n",
        "\n",
        "# Aplanar las imágenes\n",
        "X_flattened = X.reshape((-1, 48 * 48))\n",
        "\n",
        "# Realiza la partición de los datos en entrenamiento y test\n",
        "X_train, X_test, y_train, y_test = train_test_split(X_flattened, y, test_size=0.2, random_state=42)\n",
        "\n",
        "# Entrena un algoritmo de k-means con el conjunto de entrenamiento\n",
        "kmeans = KMeans(n_clusters=20)\n",
        "kmeans.fit(X_train)\n",
        "\n",
        "# Reducir la dimensionalidad para visualizar los resultados\n",
        "pca = PCA(n_components=2)\n",
        "X_train_pca = pca.fit_transform(X_train)\n",
        "\n",
        "# Visualización de la disposición de dos características con los valores de los grupos seleccionados\n",
        "plt.scatter(X_train_pca[:, 0], X_train_pca[:, 1], c=kmeans.labels_, cmap='viridis')\n",
        "plt.title(\"Disposición de características con los grupos seleccionados (Conjunto de entrenamiento)\")\n",
        "plt.xlabel(\"Componente Principal 1\")\n",
        "plt.ylabel(\"Componente Principal 2\")\n",
        "plt.show()\n",
        "\n",
        "# Función para encontrar el cluster más cercano para cada registro en el conjunto de test\n",
        "def find_nearest_cluster(X):\n",
        "    cluster_labels = kmeans.predict(X)\n",
        "    return cluster_labels\n",
        "\n",
        "# Función para encontrar tres registros de entrenamiento aleatorios que pertenecen al mismo cluster más cercano\n",
        "def find_similar_examples(X):\n",
        "    cluster_labels = find_nearest_cluster(X)\n",
        "    similar_examples = []\n",
        "    for label in cluster_labels:\n",
        "        indices = np.where(kmeans.labels_ == label)[0]\n",
        "        random_indices = np.random.choice(indices, size=3, replace=False)\n",
        "        similar_examples.append(random_indices)\n",
        "    return similar_examples\n",
        "\n",
        "# Obtener el cluster más cercano para cada registro en el conjunto de test\n",
        "test_cluster_labels = find_nearest_cluster(X_test)\n",
        "\n",
        "# Obtener tres registros aleatorios de entrenamiento para cada registro en el conjunto de test\n",
        "similar_examples = find_similar_examples(X_test)"
      ],
      "metadata": {
        "id": "G_2h3SmnOYc4"
      },
      "execution_count": null,
      "outputs": []
    }
  ],
  "metadata": {
    "colab": {
      "collapsed_sections": [
        "EGcUzayBAruj"
      ],
      "provenance": []
    },
    "kernelspec": {
      "display_name": "Python 3",
      "name": "python3"
    },
    "language_info": {
      "name": "python"
    }
  },
  "nbformat": 4,
  "nbformat_minor": 0
}